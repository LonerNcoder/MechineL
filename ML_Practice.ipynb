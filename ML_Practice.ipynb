{
  "nbformat": 4,
  "nbformat_minor": 0,
  "metadata": {
    "colab": {
      "name": "ML-Practice.ipynb",
      "provenance": [],
      "authorship_tag": "ABX9TyNb9RmzzV7DrsbrujFNjbkQ",
      "include_colab_link": true
    },
    "kernelspec": {
      "name": "python3",
      "display_name": "Python 3"
    },
    "language_info": {
      "name": "python"
    }
  },
  "cells": [
    {
      "cell_type": "markdown",
      "metadata": {
        "id": "view-in-github",
        "colab_type": "text"
      },
      "source": [
        "<a href=\"https://colab.research.google.com/github/LonerNcoder/MechineL/blob/main/ML_Practice.ipynb\" target=\"_parent\"><img src=\"https://colab.research.google.com/assets/colab-badge.svg\" alt=\"Open In Colab\"/></a>"
      ]
    },
    {
      "cell_type": "markdown",
      "source": [
        "My journey to learn mechine learning. It was my dream to learn various aspects of AI/Neural networking/Deep learning and its my first step towards my goal"
      ],
      "metadata": {
        "id": "mwFu36y_udBJ"
      }
    },
    {
      "cell_type": "markdown",
      "source": [
        "***first model fashion mnist***"
      ],
      "metadata": {
        "id": "RF07dLSS0KER"
      }
    },
    {
      "cell_type": "code",
      "source": [
        "import tensorflow as tf\n",
        "import tensorflow_datasets as tfds\n",
        "from google.colab import files\n",
        "from keras.preprocessing import image\n",
        "import numpy as np\n",
        "!pip install tensorflow-addons==0.16.1\n",
        "import tensorflow_addons as tfa\n",
        "\n"
      ],
      "metadata": {
        "id": "ASfQl_Wpu6ZI"
      },
      "execution_count": null,
      "outputs": []
    },
    {
      "cell_type": "code",
      "source": [
        ""
      ],
      "metadata": {
        "id": "0vU6bAj8_uV2"
      },
      "execution_count": null,
      "outputs": []
    },
    {
      "cell_type": "code",
      "execution_count": null,
      "metadata": {
        "id": "-7Be8InKuWK_"
      },
      "outputs": [],
      "source": [
        "(training_images, training_labels),(test_images, test_labels) = tfds.as_numpy(tfds.load('fashion_mnist', split=['train', 'test'], batch_size=-1, as_supervised=True))"
      ]
    },
    {
      "cell_type": "markdown",
      "source": [
        "formating the images\n"
      ],
      "metadata": {
        "id": "B1K7oEU3wJT3"
      }
    },
    {
      "cell_type": "code",
      "source": [
        "training_images = training_images/255.0\n",
        "test_images = test_images/255.0"
      ],
      "metadata": {
        "id": "K9fIAMHKwIEK"
      },
      "execution_count": 3,
      "outputs": []
    },
    {
      "cell_type": "code",
      "source": [
        ""
      ],
      "metadata": {
        "id": "-s1E3Psdw_Gx"
      },
      "execution_count": null,
      "outputs": []
    },
    {
      "cell_type": "code",
      "source": [
        "model = tf.keras.models.Sequential([\n",
        "                                    tf.keras.layers.Flatten(input_shape=(28, 28, 1)),\n",
        "                                    tf.keras.layers.Dense(128, activation=tf.nn.relu),\n",
        "                                    tf.keras.layers.Dropout(0.2),\n",
        "                                    tf.keras.layers.Dense(10, activation=tf.nn.softmax)\n",
        "])"
      ],
      "metadata": {
        "id": "sJjC_wk9wFOK"
      },
      "execution_count": 4,
      "outputs": []
    },
    {
      "cell_type": "code",
      "source": [
        "model.compile(optimizer='adam', loss='sparse_categorical_crossentropy', metrics=['accuracy'])"
      ],
      "metadata": {
        "id": "-aAdD7poxTkq"
      },
      "execution_count": 5,
      "outputs": []
    },
    {
      "cell_type": "code",
      "source": [
        "model.fit(training_images, training_labels, epochs=5)"
      ],
      "metadata": {
        "id": "GRzpkHInxmbb"
      },
      "execution_count": null,
      "outputs": []
    },
    {
      "cell_type": "code",
      "source": [
        "model.evaluate(test_images, test_labels)"
      ],
      "metadata": {
        "id": "uExirQd8x_Qj"
      },
      "execution_count": null,
      "outputs": []
    },
    {
      "cell_type": "code",
      "source": [
        "classify = model.predict(test_images)\n",
        "print(classify[0])\n",
        "print(test_labels[0])"
      ],
      "metadata": {
        "id": "8WNGn8d6yK8h"
      },
      "execution_count": null,
      "outputs": []
    },
    {
      "cell_type": "markdown",
      "source": [
        "*Second Model is Human or Horse*\n",
        "*italicized text*"
      ],
      "metadata": {
        "id": "kqUH6I8W0adJ"
      }
    },
    {
      "cell_type": "code",
      "source": [
        "data = tfds.load('horses_or_humans', split='train', as_supervised=True)\n",
        "\n",
        "def augmentimg(image, label):\n",
        "  image = tf.cast(image, tf.float32)\n",
        "  image = (image/255)\n",
        "  image = tf.image.random_flip_left_right(image)\n",
        "  image = tfa.image.rotate(image, 40, interpolation='NEAREST')\n",
        "  return image, label\n",
        "\n",
        "data = data.map(augmentimg)\n",
        "train_batches = data.shuffle(100).batch(10)\n",
        "\n",
        "val_data = tfds.load('horses_or_humans', split='test', as_supervised=True)\n",
        "val_data = val_data.map(augmentimg)\n",
        "validation_batches = val_data.shuffle(50).batch(10)\n",
        "\n",
        "\n",
        "from tensorflow.keras.callbacks import Callback\n",
        "\n",
        "#creates a custom callback class\n",
        "class CustomCallback(Callback):\n",
        "    \"\"\"\n",
        "    This callback will stop the model from training once the model reaches 95% accuracy on the training data\n",
        "    \"\"\"\n",
        "    def on_epoch_end(self, epoch, logs={}):\n",
        "        if logs.get('val_accuracy') > 0.95:\n",
        "            print('Accuracy above 95% -- Stopping Training')\n",
        "            self.model.stop_training = True #stops model training\n",
        "\n",
        "my_callback = CustomCallback()"
      ],
      "metadata": {
        "id": "90XD-Pdt0hC7"
      },
      "execution_count": 57,
      "outputs": []
    },
    {
      "cell_type": "code",
      "source": [
        "hoh_model = tf.keras.models.Sequential([\n",
        "    tf.keras.layers.Conv2D(16, (3,3), activation='relu', input_shape=(300, 300, 3)),\n",
        "    tf.keras.layers.MaxPooling2D(2,2),\n",
        "    tf.keras.layers.Conv2D(32, (3,3), activation='relu'),\n",
        "    tf.keras.layers.MaxPooling2D(2,2),\n",
        "    tf.keras.layers.Conv2D(64, (3,3), activation='relu'),\n",
        "    tf.keras.layers.MaxPooling2D(2,2),\n",
        "    tf.keras.layers.Conv2D(64, (3,3), activation='relu'),\n",
        "    tf.keras.layers.MaxPooling2D(2,2),\n",
        "    tf.keras.layers.Conv2D(64, (3,3), activation='relu'),\n",
        "    tf.keras.layers.MaxPooling2D(2,2),\n",
        "    tf.keras.layers.Flatten(),\n",
        "    tf.keras.layers.Dense(512, activation='relu'),\n",
        "    tf.keras.layers.Dropout(0.3),\n",
        "    tf.keras.layers.Dense(1, activation='sigmoid')\n",
        "])"
      ],
      "metadata": {
        "id": "AiKHQonL1YT1"
      },
      "execution_count": 59,
      "outputs": []
    },
    {
      "cell_type": "code",
      "source": [
        "hoh_model.compile(optimizer='adam', loss='binary_crossentropy', metrics=['accuracy'])"
      ],
      "metadata": {
        "id": "FZr9EymK3WTz"
      },
      "execution_count": 61,
      "outputs": []
    },
    {
      "cell_type": "code",
      "source": [
        "history = hoh_model.fit(train_batches, epochs=20, callbacks=my_callback,\n",
        "                        validation_data=validation_batches, validation_steps=1)"
      ],
      "metadata": {
        "colab": {
          "base_uri": "https://localhost:8080/"
        },
        "id": "eePnoquB4uCs",
        "outputId": "52615a8c-87e5-4399-853f-375991073ef0"
      },
      "execution_count": 62,
      "outputs": [
        {
          "output_type": "stream",
          "name": "stdout",
          "text": [
            "103/103 [==============================] - ETA: 0s - loss: 0.0924 - accuracy: 0.9649Accuracy above 95% -- Stopping Training\n",
            "103/103 [==============================] - 103s 988ms/step - loss: 0.0924 - accuracy: 0.9649 - val_loss: 1.1032e-04 - val_accuracy: 1.0000\n"
          ]
        }
      ]
    },
    {
      "cell_type": "code",
      "source": [
        "test_acc = hoh_model.evaluate(validation_batches, verbose=0)[1]\n",
        "print('Model Accuracy on Test Data:', round(test_acc,3))"
      ],
      "metadata": {
        "colab": {
          "base_uri": "https://localhost:8080/"
        },
        "id": "LhtYNETt-Ns3",
        "outputId": "8af12600-99a4-45c3-ff79-ea5a77f379e3"
      },
      "execution_count": 67,
      "outputs": [
        {
          "output_type": "stream",
          "name": "stdout",
          "text": [
            "Model Accuracy on Test Data: 0.863\n"
          ]
        }
      ]
    },
    {
      "cell_type": "code",
      "source": [
        "uploaded = files.upload()\n",
        "for fn in uploaded.keys():\n",
        "  path = '/content/' + fn\n",
        "  img = image.load_img(path, target_size=(300,300))\n",
        "  x = image.img_to_array(img)\n",
        "  x = np.expand_dims(x, axis=0)\n",
        "  image_tensor = np.vstack([x])\n",
        "  classes = hoh_model.predict(image_tensor)\n",
        "  print(classes)\n",
        "  print(classes[0])\n"
      ],
      "metadata": {
        "id": "pqbsPGsc_vsF"
      },
      "execution_count": null,
      "outputs": []
    }
  ]
}